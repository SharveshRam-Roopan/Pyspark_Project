{
  "cells": [
    {
      "cell_type": "code",
      "execution_count": 1,
      "metadata": {
        "colab": {
          "base_uri": "https://localhost:8080/"
        },
        "id": "i7FUYW3d2Ca6",
        "outputId": "8142aff3-71e1-42ea-aaac-7b0ebf82cbbe"
      },
      "outputs": [
        {
          "output_type": "stream",
          "name": "stdout",
          "text": [
            "Collecting pyspark\n",
            "  Downloading pyspark-3.5.0.tar.gz (316.9 MB)\n",
            "\u001b[2K     \u001b[90m━━━━━━━━━━━━━━━━━━━━━━━━━━━━━━━━━━━━━━━━\u001b[0m \u001b[32m316.9/316.9 MB\u001b[0m \u001b[31m3.4 MB/s\u001b[0m eta \u001b[36m0:00:00\u001b[0m\n",
            "\u001b[?25h  Preparing metadata (setup.py) ... \u001b[?25l\u001b[?25hdone\n",
            "Requirement already satisfied: py4j==0.10.9.7 in /usr/local/lib/python3.10/dist-packages (from pyspark) (0.10.9.7)\n",
            "Building wheels for collected packages: pyspark\n",
            "  Building wheel for pyspark (setup.py) ... \u001b[?25l\u001b[?25hdone\n",
            "  Created wheel for pyspark: filename=pyspark-3.5.0-py2.py3-none-any.whl size=317425345 sha256=9d2b308f6c2477ddfcd32e7aa4347822196156be4a53feb7a30f239d29aba9fc\n",
            "  Stored in directory: /root/.cache/pip/wheels/41/4e/10/c2cf2467f71c678cfc8a6b9ac9241e5e44a01940da8fbb17fc\n",
            "Successfully built pyspark\n",
            "Installing collected packages: pyspark\n",
            "Successfully installed pyspark-3.5.0\n"
          ]
        }
      ],
      "source": [
        "!pip install pyspark"
      ]
    },
    {
      "cell_type": "code",
      "execution_count": 2,
      "metadata": {
        "id": "B4E_0bsE19Pw"
      },
      "outputs": [],
      "source": [
        "import pyspark\n",
        "from pyspark.sql.functions import *\n",
        "from pyspark import SparkConf, SparkContext\n",
        "from pyspark.sql import SparkSession\n",
        "c = pyspark.SparkConf().setAppName(\"test_app\").setMaster(\"local\")\n",
        "sc = pyspark.SparkContext(conf = c)\n",
        "spark = SparkSession(sc)\n",
        "from pyspark.sql.window import Window\n",
        "from pyspark.sql.functions import rank"
      ]
    },
    {
      "cell_type": "code",
      "execution_count": 3,
      "metadata": {
        "id": "UQEVQG4Dk47g"
      },
      "outputs": [],
      "source": [
        "from pyspark.sql.types import *\n"
      ]
    },
    {
      "cell_type": "code",
      "execution_count": 4,
      "metadata": {
        "id": "IZh6Hei92BMV"
      },
      "outputs": [],
      "source": [
        "data = spark.read.csv('/content/drive/MyDrive/Copy of accepted_2007_to_2018Q4.csv', header = True, inferSchema = True, escape = '\"')"
      ]
    },
    {
      "cell_type": "code",
      "execution_count": 5,
      "metadata": {
        "colab": {
          "base_uri": "https://localhost:8080/"
        },
        "id": "HBpAWeU23Z8_",
        "outputId": "433798b6-85fb-48c9-f294-6cbef7d27053"
      },
      "outputs": [
        {
          "output_type": "stream",
          "name": "stdout",
          "text": [
            "+--------+---------+---------+-----------+---------------+----------+--------+-----------+-----+---------+---------------------------------------+----------+--------------+----------+-------------------+--------+-----------+----------+-----------------------------------------------------------------+----+------------------+-----------------------+--------+----------+-----+-----------+----------------+--------------+---------------+--------------+----------------------+----------------------+--------+-------+---------+----------+---------+-------------------+---------+-------------+------------------+---------------+---------------+-------------+------------------+----------+-----------------------+------------+---------------+------------+------------------+--------------------+-------------------+--------------------------+---------------------------+-----------+----------------+----------------+---------+-------------------------+--------------+------------+-----------+-----------+-----------+-----------+-----------+------------------+------------+-------+-----------+-----------+----------+--------+----------------+------+-----------+------------+--------------------+-----------+--------------+-------+------------------------+-----------+------------------+--------------------+---------------------+--------------+--------+--------------------+------------------------+---------------------+------------------------------+---------------------+--------------+---------------+-----------+---------+---------+-------------+-------------+-------------------+--------+----------------+------------+------------------+------------------+--------------+----------------+--------------------+---------+---------------+-----------------+--------------+--------------------------+---------------+----------------------+-----------------------+------------------------+----------------------+----------------+----------------+------------------+-------------------+---------------------+--------------------------------+----------------------------------+-----------------------------------+-------------+-------------+---------------+---------------+-------------+---------------+-------------------+-----------------+-----------------------+---------------+------------+--------------------+------------------------------------------+------------------------------+----------------------------+-------------------+--------------------+-------------------------+-----------------+---------------+-----------------+---------------------+---------------+\n",
            "|id      |member_id|loan_amnt|funded_amnt|funded_amnt_inv|term      |int_rate|installment|grade|sub_grade|emp_title                              |emp_length|home_ownership|annual_inc|verification_status|issue_d |loan_status|pymnt_plan|url                                                              |desc|purpose           |title                  |zip_code|addr_state|dti  |delinq_2yrs|earliest_cr_line|fico_range_low|fico_range_high|inq_last_6mths|mths_since_last_delinq|mths_since_last_record|open_acc|pub_rec|revol_bal|revol_util|total_acc|initial_list_status|out_prncp|out_prncp_inv|total_pymnt       |total_pymnt_inv|total_rec_prncp|total_rec_int|total_rec_late_fee|recoveries|collection_recovery_fee|last_pymnt_d|last_pymnt_amnt|next_pymnt_d|last_credit_pull_d|last_fico_range_high|last_fico_range_low|collections_12_mths_ex_med|mths_since_last_major_derog|policy_code|application_type|annual_inc_joint|dti_joint|verification_status_joint|acc_now_delinq|tot_coll_amt|tot_cur_bal|open_acc_6m|open_act_il|open_il_12m|open_il_24m|mths_since_rcnt_il|total_bal_il|il_util|open_rv_12m|open_rv_24m|max_bal_bc|all_util|total_rev_hi_lim|inq_fi|total_cu_tl|inq_last_12m|acc_open_past_24mths|avg_cur_bal|bc_open_to_buy|bc_util|chargeoff_within_12_mths|delinq_amnt|mo_sin_old_il_acct|mo_sin_old_rev_tl_op|mo_sin_rcnt_rev_tl_op|mo_sin_rcnt_tl|mort_acc|mths_since_recent_bc|mths_since_recent_bc_dlq|mths_since_recent_inq|mths_since_recent_revol_delinq|num_accts_ever_120_pd|num_actv_bc_tl|num_actv_rev_tl|num_bc_sats|num_bc_tl|num_il_tl|num_op_rev_tl|num_rev_accts|num_rev_tl_bal_gt_0|num_sats|num_tl_120dpd_2m|num_tl_30dpd|num_tl_90g_dpd_24m|num_tl_op_past_12m|pct_tl_nvr_dlq|percent_bc_gt_75|pub_rec_bankruptcies|tax_liens|tot_hi_cred_lim|total_bal_ex_mort|total_bc_limit|total_il_high_credit_limit|revol_bal_joint|sec_app_fico_range_low|sec_app_fico_range_high|sec_app_earliest_cr_line|sec_app_inq_last_6mths|sec_app_mort_acc|sec_app_open_acc|sec_app_revol_util|sec_app_open_act_il|sec_app_num_rev_accts|sec_app_chargeoff_within_12_mths|sec_app_collections_12_mths_ex_med|sec_app_mths_since_last_major_derog|hardship_flag|hardship_type|hardship_reason|hardship_status|deferral_term|hardship_amount|hardship_start_date|hardship_end_date|payment_plan_start_date|hardship_length|hardship_dpd|hardship_loan_status|orig_projected_additional_accrued_interest|hardship_payoff_balance_amount|hardship_last_payment_amount|disbursement_method|debt_settlement_flag|debt_settlement_flag_date|settlement_status|settlement_date|settlement_amount|settlement_percentage|settlement_term|\n",
            "+--------+---------+---------+-----------+---------------+----------+--------+-----------+-----+---------+---------------------------------------+----------+--------------+----------+-------------------+--------+-----------+----------+-----------------------------------------------------------------+----+------------------+-----------------------+--------+----------+-----+-----------+----------------+--------------+---------------+--------------+----------------------+----------------------+--------+-------+---------+----------+---------+-------------------+---------+-------------+------------------+---------------+---------------+-------------+------------------+----------+-----------------------+------------+---------------+------------+------------------+--------------------+-------------------+--------------------------+---------------------------+-----------+----------------+----------------+---------+-------------------------+--------------+------------+-----------+-----------+-----------+-----------+-----------+------------------+------------+-------+-----------+-----------+----------+--------+----------------+------+-----------+------------+--------------------+-----------+--------------+-------+------------------------+-----------+------------------+--------------------+---------------------+--------------+--------+--------------------+------------------------+---------------------+------------------------------+---------------------+--------------+---------------+-----------+---------+---------+-------------+-------------+-------------------+--------+----------------+------------+------------------+------------------+--------------+----------------+--------------------+---------+---------------+-----------------+--------------+--------------------------+---------------+----------------------+-----------------------+------------------------+----------------------+----------------+----------------+------------------+-------------------+---------------------+--------------------------------+----------------------------------+-----------------------------------+-------------+-------------+---------------+---------------+-------------+---------------+-------------------+-----------------+-----------------------+---------------+------------+--------------------+------------------------------------------+------------------------------+----------------------------+-------------------+--------------------+-------------------------+-----------------+---------------+-----------------+---------------------+---------------+\n",
            "|68407277|NULL     |3600.0   |3600.0     |3600.0         | 36 months|13.99   |123.03     |C    |C4       |leadman                                |10+ years |MORTGAGE      |55000.0   |Not Verified       |Dec-2015|Fully Paid |n         |https://lendingclub.com/browse/loanDetail.action?loan_id=68407277|NULL|debt_consolidation|Debt consolidation     |190xx   |PA        |5.91 |0.0        |Aug-2003        |675.0         |679.0          |1.0           |30.0                  |NULL                  |7.0     |0.0    |2765.0   |29.7      |13.0     |w                  |0.0      |0.0          |4421.723916800001 |4421.72        |3600.0         |821.72       |0.0               |0.0       |0.0                    |Jan-2019    |122.67         |NULL        |Mar-2019          |564.0               |560.0              |0.0                       |30.0                       |1.0        |Individual      |NULL            |NULL     |NULL                     |0.0           |722.0       |144904.0   |2.0        |2.0        |0.0        |1.0        |21.0              |4981.0      |36.0   |3.0        |3.0        |722.0     |34.0    |9300.0          |3.0   |1.0        |4.0         |4.0                 |20701.0    |1506.0        |37.2   |0.0                     |0.0        |148.0             |128.0               |3.0                  |3.0           |1.0     |4.0                 |69.0                    |4.0                  |69.0                          |2.0                  |2.0           |4.0            |2.0        |5.0      |3.0      |4.0          |9.0          |4.0                |7.0     |0.0             |0.0         |0.0               |3.0               |76.9          |0.0             |0.0                 |0.0      |178050.0       |7746.0           |2400.0        |13734.0                   |NULL           |NULL                  |NULL                   |NULL                    |NULL                  |NULL            |NULL            |NULL              |NULL               |NULL                 |NULL                            |NULL                              |NULL                               |N            |NULL         |NULL           |NULL           |NULL         |NULL           |NULL               |NULL             |NULL                   |NULL           |NULL        |NULL                |NULL                                      |NULL                          |NULL                        |Cash               |N                   |NULL                     |NULL             |NULL           |NULL             |NULL                 |NULL           |\n",
            "|68355089|NULL     |24700.0  |24700.0    |24700.0        | 36 months|11.99   |820.28     |C    |C1       |Engineer                               |10+ years |MORTGAGE      |65000.0   |Not Verified       |Dec-2015|Fully Paid |n         |https://lendingclub.com/browse/loanDetail.action?loan_id=68355089|NULL|small_business    |Business               |577xx   |SD        |16.06|1.0        |Dec-1999        |715.0         |719.0          |4.0           |6.0                   |NULL                  |22.0    |0.0    |21470.0  |19.2      |38.0     |w                  |0.0      |0.0          |25679.66          |25679.66       |24700.0        |979.66       |0.0               |0.0       |0.0                    |Jun-2016    |926.35         |NULL        |Mar-2019          |699.0               |695.0              |0.0                       |NULL                       |1.0        |Individual      |NULL            |NULL     |NULL                     |0.0           |0.0         |204396.0   |1.0        |1.0        |0.0        |1.0        |19.0              |18005.0     |73.0   |2.0        |3.0        |6472.0    |29.0    |111800.0        |0.0   |0.0        |6.0         |4.0                 |9733.0     |57830.0       |27.1   |0.0                     |0.0        |113.0             |192.0               |2.0                  |2.0           |4.0     |2.0                 |NULL                    |0.0                  |6.0                           |0.0                  |5.0           |5.0            |13.0       |17.0     |6.0      |20.0         |27.0         |5.0                |22.0    |0.0             |0.0         |0.0               |2.0               |97.4          |7.7             |0.0                 |0.0      |314017.0       |39475.0          |79300.0       |24667.0                   |NULL           |NULL                  |NULL                   |NULL                    |NULL                  |NULL            |NULL            |NULL              |NULL               |NULL                 |NULL                            |NULL                              |NULL                               |N            |NULL         |NULL           |NULL           |NULL         |NULL           |NULL               |NULL             |NULL                   |NULL           |NULL        |NULL                |NULL                                      |NULL                          |NULL                        |Cash               |N                   |NULL                     |NULL             |NULL           |NULL             |NULL                 |NULL           |\n",
            "|68341763|NULL     |20000.0  |20000.0    |20000.0        | 60 months|10.78   |432.66     |B    |B4       |truck driver                           |10+ years |MORTGAGE      |63000.0   |Not Verified       |Dec-2015|Fully Paid |n         |https://lendingclub.com/browse/loanDetail.action?loan_id=68341763|NULL|home_improvement  |NULL                   |605xx   |IL        |10.78|0.0        |Aug-2000        |695.0         |699.0          |0.0           |NULL                  |NULL                  |6.0     |0.0    |7869.0   |56.2      |18.0     |w                  |0.0      |0.0          |22705.924293878397|22705.92       |20000.0        |2705.92      |0.0               |0.0       |0.0                    |Jun-2017    |15813.3        |NULL        |Mar-2019          |704.0               |700.0              |0.0                       |NULL                       |1.0        |Joint App       |71000.0         |13.85    |Not Verified             |0.0           |0.0         |189699.0   |0.0        |1.0        |0.0        |4.0        |19.0              |10827.0     |73.0   |0.0        |2.0        |2081.0    |65.0    |14000.0         |2.0   |5.0        |1.0         |6.0                 |31617.0    |2737.0        |55.9   |0.0                     |0.0        |125.0             |184.0               |14.0                 |14.0          |5.0     |101.0               |NULL                    |10.0                 |NULL                          |0.0                  |2.0           |3.0            |2.0        |4.0      |6.0      |4.0          |7.0          |3.0                |6.0     |0.0             |0.0         |0.0               |0.0               |100.0         |50.0            |0.0                 |0.0      |218418.0       |18696.0          |6200.0        |14877.0                   |NULL           |NULL                  |NULL                   |NULL                    |NULL                  |NULL            |NULL            |NULL              |NULL               |NULL                 |NULL                            |NULL                              |NULL                               |N            |NULL         |NULL           |NULL           |NULL         |NULL           |NULL               |NULL             |NULL                   |NULL           |NULL        |NULL                |NULL                                      |NULL                          |NULL                        |Cash               |N                   |NULL                     |NULL             |NULL           |NULL             |NULL                 |NULL           |\n",
            "|66310712|NULL     |35000.0  |35000.0    |35000.0        | 60 months|14.85   |829.9      |C    |C5       |Information Systems Officer            |10+ years |MORTGAGE      |110000.0  |Source Verified    |Dec-2015|Current    |n         |https://lendingclub.com/browse/loanDetail.action?loan_id=66310712|NULL|debt_consolidation|Debt consolidation     |076xx   |NJ        |17.06|0.0        |Sep-2008        |785.0         |789.0          |0.0           |NULL                  |NULL                  |13.0    |0.0    |7802.0   |11.6      |17.0     |w                  |15897.65 |15897.65     |31464.01          |31464.01       |19102.35       |12361.66     |0.0               |0.0       |0.0                    |Feb-2019    |829.9          |Apr-2019    |Mar-2019          |679.0               |675.0              |0.0                       |NULL                       |1.0        |Individual      |NULL            |NULL     |NULL                     |0.0           |0.0         |301500.0   |1.0        |1.0        |0.0        |1.0        |23.0              |12609.0     |70.0   |1.0        |1.0        |6987.0    |45.0    |67300.0         |0.0   |1.0        |0.0         |2.0                 |23192.0    |54962.0       |12.1   |0.0                     |0.0        |36.0              |87.0                |2.0                  |2.0           |1.0     |2.0                 |NULL                    |NULL                 |NULL                          |0.0                  |4.0           |5.0            |8.0        |10.0     |2.0      |10.0         |13.0         |5.0                |13.0    |0.0             |0.0         |0.0               |1.0               |100.0         |0.0             |0.0                 |0.0      |381215.0       |52226.0          |62500.0       |18000.0                   |NULL           |NULL                  |NULL                   |NULL                    |NULL                  |NULL            |NULL            |NULL              |NULL               |NULL                 |NULL                            |NULL                              |NULL                               |N            |NULL         |NULL           |NULL           |NULL         |NULL           |NULL               |NULL             |NULL                   |NULL           |NULL        |NULL                |NULL                                      |NULL                          |NULL                        |Cash               |N                   |NULL                     |NULL             |NULL           |NULL             |NULL                 |NULL           |\n",
            "|68476807|NULL     |10400.0  |10400.0    |10400.0        | 60 months|22.45   |289.91     |F    |F1       |Contract Specialist                    |3 years   |MORTGAGE      |104433.0  |Source Verified    |Dec-2015|Fully Paid |n         |https://lendingclub.com/browse/loanDetail.action?loan_id=68476807|NULL|major_purchase    |Major purchase         |174xx   |PA        |25.37|1.0        |Jun-1998        |695.0         |699.0          |3.0           |12.0                  |NULL                  |12.0    |0.0    |21929.0  |64.5      |35.0     |w                  |0.0      |0.0          |11740.5           |11740.5        |10400.0        |1340.5       |0.0               |0.0       |0.0                    |Jul-2016    |10128.96       |NULL        |Mar-2018          |704.0               |700.0              |0.0                       |NULL                       |1.0        |Individual      |NULL            |NULL     |NULL                     |0.0           |0.0         |331730.0   |1.0        |3.0        |0.0        |3.0        |14.0              |73839.0     |84.0   |4.0        |7.0        |9702.0    |78.0    |34000.0         |2.0   |1.0        |3.0         |10.0                |27644.0    |4567.0        |77.5   |0.0                     |0.0        |128.0             |210.0               |4.0                  |4.0           |6.0     |4.0                 |12.0                    |1.0                  |12.0                          |0.0                  |4.0           |6.0            |5.0        |9.0      |10.0     |7.0          |19.0         |6.0                |12.0    |0.0             |0.0         |0.0               |4.0               |96.6          |60.0            |0.0                 |0.0      |439570.0       |95768.0          |20300.0       |88097.0                   |NULL           |NULL                  |NULL                   |NULL                    |NULL                  |NULL            |NULL            |NULL              |NULL               |NULL                 |NULL                            |NULL                              |NULL                               |N            |NULL         |NULL           |NULL           |NULL         |NULL           |NULL               |NULL             |NULL                   |NULL           |NULL        |NULL                |NULL                                      |NULL                          |NULL                        |Cash               |N                   |NULL                     |NULL             |NULL           |NULL             |NULL                 |NULL           |\n",
            "|68426831|NULL     |11950.0  |11950.0    |11950.0        | 36 months|13.44   |405.18     |C    |C3       |Veterinary Tecnician                   |4 years   |RENT          |34000.0   |Source Verified    |Dec-2015|Fully Paid |n         |https://lendingclub.com/browse/loanDetail.action?loan_id=68426831|NULL|debt_consolidation|Debt consolidation     |300xx   |GA        |10.2 |0.0        |Oct-1987        |690.0         |694.0          |0.0           |NULL                  |NULL                  |5.0     |0.0    |8822.0   |68.4      |6.0      |w                  |0.0      |0.0          |13708.9485297572  |13708.95       |11950.0        |1758.95      |0.0               |0.0       |0.0                    |May-2017    |7653.56        |NULL        |May-2017          |759.0               |755.0              |0.0                       |NULL                       |1.0        |Individual      |NULL            |NULL     |NULL                     |0.0           |0.0         |12798.0    |0.0        |1.0        |0.0        |0.0        |338.0             |3976.0      |99.0   |0.0        |0.0        |4522.0    |76.0    |12900.0         |0.0   |0.0        |0.0         |0.0                 |2560.0     |844.0         |91.0   |0.0                     |0.0        |338.0             |54.0                |32.0                 |32.0          |0.0     |36.0                |NULL                    |NULL                 |NULL                          |0.0                  |2.0           |3.0            |2.0        |2.0      |2.0      |4.0          |4.0          |3.0                |5.0     |0.0             |0.0         |0.0               |0.0               |100.0         |100.0           |0.0                 |0.0      |16900.0        |12798.0          |9400.0        |4000.0                    |NULL           |NULL                  |NULL                   |NULL                    |NULL                  |NULL            |NULL            |NULL              |NULL               |NULL                 |NULL                            |NULL                              |NULL                               |N            |NULL         |NULL           |NULL           |NULL         |NULL           |NULL               |NULL             |NULL                   |NULL           |NULL        |NULL                |NULL                                      |NULL                          |NULL                        |Cash               |N                   |NULL                     |NULL             |NULL           |NULL             |NULL                 |NULL           |\n",
            "|68476668|NULL     |20000.0  |20000.0    |20000.0        | 36 months|9.17    |637.58     |B    |B2       |Vice President of Recruiting Operations|10+ years |MORTGAGE      |180000.0  |Not Verified       |Dec-2015|Fully Paid |n         |https://lendingclub.com/browse/loanDetail.action?loan_id=68476668|NULL|debt_consolidation|Debt consolidation     |550xx   |MN        |14.67|0.0        |Jun-1990        |680.0         |684.0          |0.0           |49.0                  |NULL                  |12.0    |0.0    |87329.0  |84.5      |27.0     |f                  |0.0      |0.0          |21393.800000011   |21393.8        |20000.0        |1393.8       |0.0               |0.0       |0.0                    |Nov-2016    |15681.05       |NULL        |Mar-2019          |654.0               |650.0              |0.0                       |NULL                       |1.0        |Individual      |NULL            |NULL     |NULL                     |0.0           |0.0         |360358.0   |0.0        |2.0        |0.0        |2.0        |18.0              |29433.0     |63.0   |2.0        |3.0        |13048.0   |74.0    |94200.0         |1.0   |0.0        |1.0         |6.0                 |30030.0    |0.0           |102.9  |0.0                     |0.0        |142.0             |306.0               |10.0                 |10.0          |4.0     |12.0                |NULL                    |10.0                 |NULL                          |0.0                  |4.0           |6.0            |4.0        |5.0      |7.0      |9.0          |16.0         |6.0                |12.0    |0.0             |0.0         |0.0               |2.0               |96.3          |100.0           |0.0                 |0.0      |388852.0       |116762.0         |31500.0       |46452.0                   |NULL           |NULL                  |NULL                   |NULL                    |NULL                  |NULL            |NULL            |NULL              |NULL               |NULL                 |NULL                            |NULL                              |NULL                               |N            |NULL         |NULL           |NULL           |NULL         |NULL           |NULL               |NULL             |NULL                   |NULL           |NULL        |NULL                |NULL                                      |NULL                          |NULL                        |Cash               |N                   |NULL                     |NULL             |NULL           |NULL             |NULL                 |NULL           |\n",
            "|67275481|NULL     |20000.0  |20000.0    |20000.0        | 36 months|8.49    |631.26     |B    |B1       |road driver                            |10+ years |MORTGAGE      |85000.0   |Not Verified       |Dec-2015|Fully Paid |n         |https://lendingclub.com/browse/loanDetail.action?loan_id=67275481|NULL|major_purchase    |Major purchase         |293xx   |SC        |17.61|1.0        |Feb-1999        |705.0         |709.0          |0.0           |3.0                   |NULL                  |8.0     |0.0    |826.0    |5.7       |15.0     |w                  |0.0      |0.0          |21538.508976797   |21538.51       |20000.0        |1538.51      |0.0               |0.0       |0.0                    |Jan-2017    |14618.23       |NULL        |Mar-2019          |674.0               |670.0              |0.0                       |3.0                        |1.0        |Individual      |NULL            |NULL     |NULL                     |0.0           |0.0         |141601.0   |0.0        |3.0        |0.0        |4.0        |13.0              |27111.0     |75.0   |0.0        |0.0        |640.0     |55.0    |14500.0         |1.0   |0.0        |2.0         |4.0                 |17700.0    |13674.0       |5.7    |0.0                     |0.0        |149.0             |55.0                |32.0                 |13.0          |3.0     |32.0                |NULL                    |8.0                  |NULL                          |1.0                  |2.0           |2.0            |3.0        |3.0      |9.0      |3.0          |3.0          |2.0                |8.0     |0.0             |0.0         |1.0               |0.0               |93.3          |0.0             |0.0                 |0.0      |193390.0       |27937.0          |14500.0       |36144.0                   |NULL           |NULL                  |NULL                   |NULL                    |NULL                  |NULL            |NULL            |NULL              |NULL               |NULL                 |NULL                            |NULL                              |NULL                               |N            |NULL         |NULL           |NULL           |NULL         |NULL           |NULL               |NULL             |NULL                   |NULL           |NULL        |NULL                |NULL                                      |NULL                          |NULL                        |Cash               |N                   |NULL                     |NULL             |NULL           |NULL             |NULL                 |NULL           |\n",
            "|68466926|NULL     |10000.0  |10000.0    |10000.0        | 36 months|6.49    |306.45     |A    |A2       |SERVICE MANAGER                        |6 years   |RENT          |85000.0   |Not Verified       |Dec-2015|Fully Paid |n         |https://lendingclub.com/browse/loanDetail.action?loan_id=68466926|NULL|credit_card       |Credit card refinancing|160xx   |PA        |13.07|0.0        |Apr-2002        |685.0         |689.0          |1.0           |NULL                  |106.0                 |14.0    |1.0    |10464.0  |34.5      |23.0     |w                  |0.0      |0.0          |10998.9715749644  |10998.97       |10000.0        |998.97       |0.0               |0.0       |0.0                    |Aug-2018    |1814.48        |NULL        |Mar-2019          |719.0               |715.0              |0.0                       |NULL                       |1.0        |Individual      |NULL            |NULL     |NULL                     |0.0           |8341.0      |27957.0    |2.0        |1.0        |0.0        |0.0        |35.0              |17493.0     |57.0   |2.0        |7.0        |2524.0    |46.0    |30300.0         |2.0   |0.0        |1.0         |7.0                 |1997.0     |8182.0        |50.1   |0.0                     |0.0        |164.0             |129.0               |1.0                  |1.0           |1.0     |4.0                 |NULL                    |1.0                  |NULL                          |0.0                  |6.0           |9.0            |7.0        |10.0     |3.0      |13.0         |19.0         |9.0                |14.0    |0.0             |0.0         |0.0               |2.0               |95.7          |28.6            |1.0                 |0.0      |61099.0        |27957.0          |16400.0       |30799.0                   |NULL           |NULL                  |NULL                   |NULL                    |NULL                  |NULL            |NULL            |NULL              |NULL               |NULL                 |NULL                            |NULL                              |NULL                               |N            |NULL         |NULL           |NULL           |NULL         |NULL           |NULL               |NULL             |NULL                   |NULL           |NULL        |NULL                |NULL                                      |NULL                          |NULL                        |Cash               |N                   |NULL                     |NULL             |NULL           |NULL             |NULL                 |NULL           |\n",
            "|68616873|NULL     |8000.0   |8000.0     |8000.0         | 36 months|11.48   |263.74     |B    |B5       |Vendor liaison                         |10+ years |MORTGAGE      |42000.0   |Not Verified       |Dec-2015|Fully Paid |n         |https://lendingclub.com/browse/loanDetail.action?loan_id=68616873|NULL|credit_card       |Credit card refinancing|029xx   |RI        |34.8 |0.0        |Nov-1994        |700.0         |704.0          |0.0           |75.0                  |NULL                  |8.0     |0.0    |7034.0   |39.1      |18.0     |w                  |0.0      |0.0          |8939.5805031401   |8939.58        |8000.0         |939.58       |0.0               |0.0       |0.0                    |Apr-2017    |4996.24        |NULL        |Nov-2018          |679.0               |675.0              |0.0                       |75.0                       |1.0        |Individual      |NULL            |NULL     |NULL                     |0.0           |0.0         |199696.0   |0.0        |2.0        |2.0        |3.0        |10.0              |106748.0    |72.0   |0.0        |2.0        |4725.0    |49.0    |18000.0         |0.0   |0.0        |1.0         |5.0                 |28528.0    |9966.0        |41.4   |0.0                     |0.0        |155.0             |253.0               |15.0                 |10.0          |1.0     |50.0                |NULL                    |10.0                 |NULL                          |1.0                  |3.0           |3.0            |3.0        |6.0      |5.0      |5.0          |11.0         |3.0                |8.0     |0.0             |0.0         |0.0               |2.0               |94.4          |33.3            |0.0                 |0.0      |256513.0       |113782.0         |17000.0       |135513.0                  |NULL           |NULL                  |NULL                   |NULL                    |NULL                  |NULL            |NULL            |NULL              |NULL               |NULL                 |NULL                            |NULL                              |NULL                               |N            |NULL         |NULL           |NULL           |NULL         |NULL           |NULL               |NULL             |NULL                   |NULL           |NULL        |NULL                |NULL                                      |NULL                          |NULL                        |Cash               |N                   |NULL                     |NULL             |NULL           |NULL             |NULL                 |NULL           |\n",
            "+--------+---------+---------+-----------+---------------+----------+--------+-----------+-----+---------+---------------------------------------+----------+--------------+----------+-------------------+--------+-----------+----------+-----------------------------------------------------------------+----+------------------+-----------------------+--------+----------+-----+-----------+----------------+--------------+---------------+--------------+----------------------+----------------------+--------+-------+---------+----------+---------+-------------------+---------+-------------+------------------+---------------+---------------+-------------+------------------+----------+-----------------------+------------+---------------+------------+------------------+--------------------+-------------------+--------------------------+---------------------------+-----------+----------------+----------------+---------+-------------------------+--------------+------------+-----------+-----------+-----------+-----------+-----------+------------------+------------+-------+-----------+-----------+----------+--------+----------------+------+-----------+------------+--------------------+-----------+--------------+-------+------------------------+-----------+------------------+--------------------+---------------------+--------------+--------+--------------------+------------------------+---------------------+------------------------------+---------------------+--------------+---------------+-----------+---------+---------+-------------+-------------+-------------------+--------+----------------+------------+------------------+------------------+--------------+----------------+--------------------+---------+---------------+-----------------+--------------+--------------------------+---------------+----------------------+-----------------------+------------------------+----------------------+----------------+----------------+------------------+-------------------+---------------------+--------------------------------+----------------------------------+-----------------------------------+-------------+-------------+---------------+---------------+-------------+---------------+-------------------+-----------------+-----------------------+---------------+------------+--------------------+------------------------------------------+------------------------------+----------------------------+-------------------+--------------------+-------------------------+-----------------+---------------+-----------------+---------------------+---------------+\n",
            "only showing top 10 rows\n",
            "\n"
          ]
        }
      ],
      "source": [
        "data.show(10,False)"
      ]
    },
    {
      "cell_type": "code",
      "execution_count": 6,
      "metadata": {
        "colab": {
          "base_uri": "https://localhost:8080/"
        },
        "id": "LdAq4Yvv2yRR",
        "outputId": "2b8a7248-74da-47e8-ae0b-415cbd42fb44"
      },
      "outputs": [
        {
          "output_type": "execute_result",
          "data": {
            "text/plain": [
              "(2260701, 151)"
            ]
          },
          "metadata": {},
          "execution_count": 6
        }
      ],
      "source": [
        "data.count(), len(data.columns)"
      ]
    },
    {
      "cell_type": "code",
      "execution_count": 7,
      "metadata": {
        "colab": {
          "base_uri": "https://localhost:8080/"
        },
        "id": "drJ6_-KR55RY",
        "outputId": "234ef685-256e-4972-98b9-7520eddc8b5e"
      },
      "outputs": [
        {
          "output_type": "execute_result",
          "data": {
            "text/plain": [
              "['id',\n",
              " 'member_id',\n",
              " 'loan_amnt',\n",
              " 'funded_amnt',\n",
              " 'funded_amnt_inv',\n",
              " 'term',\n",
              " 'int_rate',\n",
              " 'installment',\n",
              " 'grade',\n",
              " 'sub_grade',\n",
              " 'emp_title',\n",
              " 'emp_length',\n",
              " 'home_ownership',\n",
              " 'annual_inc',\n",
              " 'verification_status',\n",
              " 'issue_d',\n",
              " 'loan_status',\n",
              " 'pymnt_plan',\n",
              " 'url',\n",
              " 'desc',\n",
              " 'purpose',\n",
              " 'title',\n",
              " 'zip_code',\n",
              " 'addr_state',\n",
              " 'dti',\n",
              " 'delinq_2yrs',\n",
              " 'earliest_cr_line',\n",
              " 'fico_range_low',\n",
              " 'fico_range_high',\n",
              " 'inq_last_6mths',\n",
              " 'mths_since_last_delinq',\n",
              " 'mths_since_last_record',\n",
              " 'open_acc',\n",
              " 'pub_rec',\n",
              " 'revol_bal',\n",
              " 'revol_util',\n",
              " 'total_acc',\n",
              " 'initial_list_status',\n",
              " 'out_prncp',\n",
              " 'out_prncp_inv',\n",
              " 'total_pymnt',\n",
              " 'total_pymnt_inv',\n",
              " 'total_rec_prncp',\n",
              " 'total_rec_int',\n",
              " 'total_rec_late_fee',\n",
              " 'recoveries',\n",
              " 'collection_recovery_fee',\n",
              " 'last_pymnt_d',\n",
              " 'last_pymnt_amnt',\n",
              " 'next_pymnt_d',\n",
              " 'last_credit_pull_d',\n",
              " 'last_fico_range_high',\n",
              " 'last_fico_range_low',\n",
              " 'collections_12_mths_ex_med',\n",
              " 'mths_since_last_major_derog',\n",
              " 'policy_code',\n",
              " 'application_type',\n",
              " 'annual_inc_joint',\n",
              " 'dti_joint',\n",
              " 'verification_status_joint',\n",
              " 'acc_now_delinq',\n",
              " 'tot_coll_amt',\n",
              " 'tot_cur_bal',\n",
              " 'open_acc_6m',\n",
              " 'open_act_il',\n",
              " 'open_il_12m',\n",
              " 'open_il_24m',\n",
              " 'mths_since_rcnt_il',\n",
              " 'total_bal_il',\n",
              " 'il_util',\n",
              " 'open_rv_12m',\n",
              " 'open_rv_24m',\n",
              " 'max_bal_bc',\n",
              " 'all_util',\n",
              " 'total_rev_hi_lim',\n",
              " 'inq_fi',\n",
              " 'total_cu_tl',\n",
              " 'inq_last_12m',\n",
              " 'acc_open_past_24mths',\n",
              " 'avg_cur_bal',\n",
              " 'bc_open_to_buy',\n",
              " 'bc_util',\n",
              " 'chargeoff_within_12_mths',\n",
              " 'delinq_amnt',\n",
              " 'mo_sin_old_il_acct',\n",
              " 'mo_sin_old_rev_tl_op',\n",
              " 'mo_sin_rcnt_rev_tl_op',\n",
              " 'mo_sin_rcnt_tl',\n",
              " 'mort_acc',\n",
              " 'mths_since_recent_bc',\n",
              " 'mths_since_recent_bc_dlq',\n",
              " 'mths_since_recent_inq',\n",
              " 'mths_since_recent_revol_delinq',\n",
              " 'num_accts_ever_120_pd',\n",
              " 'num_actv_bc_tl',\n",
              " 'num_actv_rev_tl',\n",
              " 'num_bc_sats',\n",
              " 'num_bc_tl',\n",
              " 'num_il_tl',\n",
              " 'num_op_rev_tl',\n",
              " 'num_rev_accts',\n",
              " 'num_rev_tl_bal_gt_0',\n",
              " 'num_sats',\n",
              " 'num_tl_120dpd_2m',\n",
              " 'num_tl_30dpd',\n",
              " 'num_tl_90g_dpd_24m',\n",
              " 'num_tl_op_past_12m',\n",
              " 'pct_tl_nvr_dlq',\n",
              " 'percent_bc_gt_75',\n",
              " 'pub_rec_bankruptcies',\n",
              " 'tax_liens',\n",
              " 'tot_hi_cred_lim',\n",
              " 'total_bal_ex_mort',\n",
              " 'total_bc_limit',\n",
              " 'total_il_high_credit_limit',\n",
              " 'revol_bal_joint',\n",
              " 'sec_app_fico_range_low',\n",
              " 'sec_app_fico_range_high',\n",
              " 'sec_app_earliest_cr_line',\n",
              " 'sec_app_inq_last_6mths',\n",
              " 'sec_app_mort_acc',\n",
              " 'sec_app_open_acc',\n",
              " 'sec_app_revol_util',\n",
              " 'sec_app_open_act_il',\n",
              " 'sec_app_num_rev_accts',\n",
              " 'sec_app_chargeoff_within_12_mths',\n",
              " 'sec_app_collections_12_mths_ex_med',\n",
              " 'sec_app_mths_since_last_major_derog',\n",
              " 'hardship_flag',\n",
              " 'hardship_type',\n",
              " 'hardship_reason',\n",
              " 'hardship_status',\n",
              " 'deferral_term',\n",
              " 'hardship_amount',\n",
              " 'hardship_start_date',\n",
              " 'hardship_end_date',\n",
              " 'payment_plan_start_date',\n",
              " 'hardship_length',\n",
              " 'hardship_dpd',\n",
              " 'hardship_loan_status',\n",
              " 'orig_projected_additional_accrued_interest',\n",
              " 'hardship_payoff_balance_amount',\n",
              " 'hardship_last_payment_amount',\n",
              " 'disbursement_method',\n",
              " 'debt_settlement_flag',\n",
              " 'debt_settlement_flag_date',\n",
              " 'settlement_status',\n",
              " 'settlement_date',\n",
              " 'settlement_amount',\n",
              " 'settlement_percentage',\n",
              " 'settlement_term']"
            ]
          },
          "metadata": {},
          "execution_count": 7
        }
      ],
      "source": [
        "data.columns"
      ]
    },
    {
      "cell_type": "code",
      "execution_count": 8,
      "metadata": {
        "id": "udWvgsDR51Pa"
      },
      "outputs": [],
      "source": [
        "A25 = ['id','member_id', 'loan_amnt', 'funded_amnt', 'funded_amnt_inv', 'term', 'int_rate', 'installment', 'grade', 'sub_grade', 'emp_title', 'emp_length', 'home_ownership', 'annual_inc', 'verification_status', 'issue_d', 'loan_status', 'pymnt_plan', 'url','desc', 'purpose', 'title', 'zip_code', 'addr_state','dti']\n",
        "B25 = ['delinq_2yrs', 'earliest_cr_line', 'fico_range_low', 'fico_range_high', 'inq_last_6mths', 'mths_since_last_delinq', 'mths_since_last_record', 'open_acc', 'pub_rec', 'revol_bal', 'revol_util', 'total_acc', 'initial_list_status', 'out_prncp', 'out_prncp_inv', 'total_pymnt', 'total_pymnt_inv', 'total_rec_prncp', 'total_rec_int', 'total_rec_late_fee', 'recoveries', 'collection_recovery_fee', 'last_pymnt_d', 'last_pymnt_amnt', 'next_pymnt_d']\n",
        "C25 = ['last_credit_pull_d', 'last_fico_range_high', 'last_fico_range_low', 'collections_12_mths_ex_med', 'mths_since_last_major_derog', 'policy_code', 'application_type', 'annual_inc_joint', 'dti_joint', 'verification_status_joint', 'acc_now_delinq', 'tot_coll_amt', 'tot_cur_bal', 'open_acc_6m', 'open_act_il', 'open_il_12m', 'open_il_24m', 'mths_since_rcnt_il', 'total_bal_il', 'il_util', 'open_rv_12m', 'open_rv_24m','max_bal_bc','all_util', 'total_rev_hi_lim']\n",
        "D25 = ['inq_fi', 'total_cu_tl', 'inq_last_12m', 'acc_open_past_24mths', 'avg_cur_bal', 'bc_open_to_buy', 'bc_util', 'chargeoff_within_12_mths', 'delinq_amnt', 'mo_sin_old_il_acct', 'mo_sin_old_rev_tl_op', 'mo_sin_rcnt_rev_tl_op', 'mo_sin_rcnt_tl', 'mort_acc', 'mths_since_recent_bc', 'mths_since_recent_bc_dlq', 'mths_since_recent_inq', 'mths_since_recent_revol_delinq', 'num_accts_ever_120_pd', 'num_actv_bc_tl', 'num_actv_rev_tl', 'num_bc_sats', 'num_bc_tl', 'num_il_tl', 'num_op_rev_tl']\n",
        "E25 = ['num_rev_accts', 'num_rev_tl_bal_gt_0', 'num_sats', 'num_tl_120dpd_2m', 'num_tl_30dpd', 'num_tl_90g_dpd_24m', 'num_tl_op_past_12m', 'pct_tl_nvr_dlq', 'percent_bc_gt_75', 'pub_rec_bankruptcies', 'tax_liens', 'tot_hi_cred_lim', 'total_bal_ex_mort','total_bc_limit', 'total_il_high_credit_limit', 'revol_bal_joint', 'sec_app_fico_range_low', 'sec_app_fico_range_high', 'sec_app_earliest_cr_line', 'sec_app_inq_last_6mths', 'sec_app_mort_acc', 'sec_app_open_acc', 'sec_app_revol_util', 'sec_app_open_act_il', 'sec_app_num_rev_accts']\n",
        "F25 = ['sec_app_chargeoff_within_12_mths', 'sec_app_collections_12_mths_ex_med', 'sec_app_mths_since_last_major_derog', 'hardship_flag', 'hardship_type', 'hardship_reason', 'hardship_status', 'deferral_term', 'hardship_amount', 'hardship_start_date', 'hardship_end_date', 'payment_plan_start_date', 'hardship_length', 'hardship_dpd', 'hardship_loan_status', 'orig_projected_additional_accrued_interest', 'hardship_payoff_balance_amount', 'hardship_last_payment_amount', 'disbursement_method', 'debt_settlement_flag', 'debt_settlement_flag_date', 'settlement_status', 'settlement_date', 'settlement_amount','settlement_percentage','settlement_term']"
      ]
    },
    {
      "cell_type": "code",
      "execution_count": 9,
      "metadata": {
        "colab": {
          "base_uri": "https://localhost:8080/"
        },
        "id": "UJCBPOUe-u9J",
        "outputId": "443a2182-d752-4f82-d863-70f8b9d76d91"
      },
      "outputs": [
        {
          "output_type": "execute_result",
          "data": {
            "text/plain": [
              "(25, 25, 25, 25, 25, 26)"
            ]
          },
          "metadata": {},
          "execution_count": 9
        }
      ],
      "source": [
        "len(A25),len(B25),len(C25),len(D25),len(E25),len(F25)"
      ]
    },
    {
      "cell_type": "code",
      "execution_count": 10,
      "metadata": {
        "colab": {
          "base_uri": "https://localhost:8080/"
        },
        "id": "nifODNgD-zxI",
        "outputId": "cdbd1165-cdbf-4675-fcd3-ab3c166b1853"
      },
      "outputs": [
        {
          "output_type": "stream",
          "name": "stdout",
          "text": [
            "+--------+---------+---------+-----------+---------------+----------+--------+-----------+-----+---------+---------------------------+----------+--------------+----------+-------------------+--------+-----------+----------+-----------------------------------------------------------------+----+------------------+------------------+--------+----------+-----+\n",
            "|id      |member_id|loan_amnt|funded_amnt|funded_amnt_inv|term      |int_rate|installment|grade|sub_grade|emp_title                  |emp_length|home_ownership|annual_inc|verification_status|issue_d |loan_status|pymnt_plan|url                                                              |desc|purpose           |title             |zip_code|addr_state|dti  |\n",
            "+--------+---------+---------+-----------+---------------+----------+--------+-----------+-----+---------+---------------------------+----------+--------------+----------+-------------------+--------+-----------+----------+-----------------------------------------------------------------+----+------------------+------------------+--------+----------+-----+\n",
            "|68407277|NULL     |3600.0   |3600.0     |3600.0         | 36 months|13.99   |123.03     |C    |C4       |leadman                    |10+ years |MORTGAGE      |55000.0   |Not Verified       |Dec-2015|Fully Paid |n         |https://lendingclub.com/browse/loanDetail.action?loan_id=68407277|NULL|debt_consolidation|Debt consolidation|190xx   |PA        |5.91 |\n",
            "|68355089|NULL     |24700.0  |24700.0    |24700.0        | 36 months|11.99   |820.28     |C    |C1       |Engineer                   |10+ years |MORTGAGE      |65000.0   |Not Verified       |Dec-2015|Fully Paid |n         |https://lendingclub.com/browse/loanDetail.action?loan_id=68355089|NULL|small_business    |Business          |577xx   |SD        |16.06|\n",
            "|68341763|NULL     |20000.0  |20000.0    |20000.0        | 60 months|10.78   |432.66     |B    |B4       |truck driver               |10+ years |MORTGAGE      |63000.0   |Not Verified       |Dec-2015|Fully Paid |n         |https://lendingclub.com/browse/loanDetail.action?loan_id=68341763|NULL|home_improvement  |NULL              |605xx   |IL        |10.78|\n",
            "|66310712|NULL     |35000.0  |35000.0    |35000.0        | 60 months|14.85   |829.9      |C    |C5       |Information Systems Officer|10+ years |MORTGAGE      |110000.0  |Source Verified    |Dec-2015|Current    |n         |https://lendingclub.com/browse/loanDetail.action?loan_id=66310712|NULL|debt_consolidation|Debt consolidation|076xx   |NJ        |17.06|\n",
            "|68476807|NULL     |10400.0  |10400.0    |10400.0        | 60 months|22.45   |289.91     |F    |F1       |Contract Specialist        |3 years   |MORTGAGE      |104433.0  |Source Verified    |Dec-2015|Fully Paid |n         |https://lendingclub.com/browse/loanDetail.action?loan_id=68476807|NULL|major_purchase    |Major purchase    |174xx   |PA        |25.37|\n",
            "+--------+---------+---------+-----------+---------------+----------+--------+-----------+-----+---------+---------------------------+----------+--------------+----------+-------------------+--------+-----------+----------+-----------------------------------------------------------------+----+------------------+------------------+--------+----------+-----+\n",
            "only showing top 5 rows\n",
            "\n"
          ]
        }
      ],
      "source": [
        "data.select(A25).show(5,False)"
      ]
    },
    {
      "cell_type": "code",
      "execution_count": 11,
      "metadata": {
        "id": "kdN-JeAi_x_d"
      },
      "outputs": [],
      "source": [
        "# Data Cleaning\n",
        "# How to find the Missing Values\n",
        "#print(data.filter(col('id').isNull()).count())\n",
        "#print(data.filter(col('member_id').isNull()).count())"
      ]
    },
    {
      "cell_type": "code",
      "execution_count": 12,
      "metadata": {
        "id": "anO38ZfmEyOx"
      },
      "outputs": [],
      "source": [
        "# Missing Values (A25)\n",
        "#data.select([count(when (isnan(c) | col(c).isNull(), c)).alias(c) for c in A25]).show()"
      ]
    },
    {
      "cell_type": "code",
      "execution_count": 13,
      "metadata": {
        "id": "OxIAxF1ZQH1q"
      },
      "outputs": [],
      "source": [
        "# Missing Values Percentage\n",
        "#data.select([round (((count(when(isnan(c) | col(c).isNull() ,c))/data.count()) * 100 ),2).alias(c) for c in A25 ]).show()"
      ]
    },
    {
      "cell_type": "code",
      "execution_count": 14,
      "metadata": {
        "id": "zqirnKFLU-__"
      },
      "outputs": [],
      "source": [
        "# From A25 columns , columns_drop = ['member_id','desc'] having null > 75%"
      ]
    },
    {
      "cell_type": "code",
      "execution_count": 15,
      "metadata": {
        "id": "UOnst_qROPF5"
      },
      "outputs": [],
      "source": [
        "#data.select([count(when (isnan(c) | col(c).isNull(), c)).alias(c) for c in B25]).show()"
      ]
    },
    {
      "cell_type": "code",
      "execution_count": 16,
      "metadata": {
        "id": "EsAWQf8oWbje"
      },
      "outputs": [],
      "source": [
        "# Missing Values Percentage for B25\n",
        "#data.select([round(( (count(when(isnan(c) | col(c).isNull(),c )) /data.count()) * 100),2).alias(c) for c in B25]  ).show()"
      ]
    },
    {
      "cell_type": "code",
      "execution_count": 17,
      "metadata": {
        "id": "PWvdAWQbYH73"
      },
      "outputs": [],
      "source": [
        "# Missing Values Percentage for C25\n",
        "#data.select([round(( (count(when(isnan(c) | col(c).isNull(),c))/data.count() ) *100 ),2).alias(c) for c in C25]).show()"
      ]
    },
    {
      "cell_type": "code",
      "execution_count": 18,
      "metadata": {
        "id": "qoY7M4Rna2cd"
      },
      "outputs": [],
      "source": [
        "# Missing Values Percentage for D25\n",
        "#data.select([round( ((count(when(isnan(c) | col(c).isNull(),c))/data.count())*100 ) ,2).alias(c) for c in D25]).show()"
      ]
    },
    {
      "cell_type": "code",
      "execution_count": 19,
      "metadata": {
        "id": "c7fHNggecOy0"
      },
      "outputs": [],
      "source": [
        "# Missing Values Percentage for F25\n",
        "#data.select([round(((count(when(isnan(c) | col(c).isNull(),c))/data.count())*100 ) ,2).alias(c)for c in F25]).show()"
      ]
    },
    {
      "cell_type": "code",
      "execution_count": 20,
      "metadata": {
        "id": "wb8Cwpwqc3SD"
      },
      "outputs": [],
      "source": [
        "# Missing Values Percentage for E25\n",
        "#data.select([round( (( count(when(isnan(c) | col(c).isNull(),c ) )/data.count()) *100),2).alias(c) for c in E25]).show()"
      ]
    },
    {
      "cell_type": "code",
      "execution_count": 21,
      "metadata": {
        "id": "pc2Md0twOPQR"
      },
      "outputs": [],
      "source": [
        "# columns to drop having null > 70%  from\n",
        "# A25  ['member_id','desc']\n",
        "# B25 ['mths_since_last_record']\n",
        "# C25 ['mths_since_last_major_derog', 'annual_inc_joint', 'dti_joint', 'verification_status_joint']\n",
        "# D25 ['mths_since_recent_bc_dlq']\n",
        "# E25 ['revol_bal_joint', 'sec_app_fico_range_low', 'sec_app_fico_range_high', 'sec_app_earliest_cr_line', 'sec_app_inq_last_6mths',\n",
        "#       'sec_app_mort_acc', 'sec_app_open_acc', 'sec_app_revol_util', 'sec_app_open_act_il', 'sec_app_num_rev_accts']\n",
        "# F25 ['sec_app_chargeoff_within_12_mths', 'sec_app_collections_12_mths_ex_med', 'sec_app_mths_since_last_major_derog', 'hardship_type',\n",
        "#       'hardship_reason', 'hardship_status', 'deferral_term', 'hardship_amount', 'hardship_start_date', 'hardship_end_date', 'payment_plan_start_date',\n",
        "#       'hardship_length', 'hardship_dpd', 'hardship_loan_status', 'orig_projected_additional_accrued_interest', 'hardship_payoff_balance_amount',\n",
        "#       'hardship_last_payment_amount', 'debt_settlement_flag_date', 'settlement_status', 'settlement_date', 'settlement_amount', 'settlement_percentage', 'settlement_term' ]"
      ]
    },
    {
      "cell_type": "code",
      "execution_count": 22,
      "metadata": {
        "id": "1ww7HSD-OPU3"
      },
      "outputs": [],
      "source": [
        "columns_to_drop = ['member_id','desc','mths_since_last_record', 'mths_since_last_major_derog', 'annual_inc_joint', 'dti_joint', 'verification_status_joint',\n",
        "                   'mths_since_recent_bc_dlq','revol_bal_joint', 'sec_app_fico_range_low', 'sec_app_fico_range_high', 'sec_app_earliest_cr_line',\n",
        "                   'sec_app_inq_last_6mths', 'sec_app_mort_acc', 'sec_app_open_acc', 'sec_app_revol_util', 'sec_app_open_act_il', 'sec_app_num_rev_accts',\n",
        "                   'sec_app_chargeoff_within_12_mths', 'sec_app_collections_12_mths_ex_med', 'sec_app_mths_since_last_major_derog',\n",
        "                   'hardship_type', 'hardship_reason', 'hardship_status', 'deferral_term', 'hardship_amount', 'hardship_start_date',\n",
        "                   'hardship_end_date', 'payment_plan_start_date', 'hardship_length', 'hardship_dpd', 'hardship_loan_status',\n",
        "                   'orig_projected_additional_accrued_interest', 'hardship_payoff_balance_amount', 'hardship_last_payment_amount', 'debt_settlement_flag_date',\n",
        "                   'settlement_status', 'settlement_date', 'settlement_amount', 'settlement_percentage', 'settlement_term']\n",
        "data1 = data.drop(*columns_to_drop)"
      ]
    },
    {
      "cell_type": "code",
      "execution_count": 23,
      "metadata": {
        "colab": {
          "base_uri": "https://localhost:8080/"
        },
        "id": "OU9npBF5OPZO",
        "outputId": "d3dc46ad-806b-412f-ee9e-cad63b718001"
      },
      "outputs": [
        {
          "output_type": "execute_result",
          "data": {
            "text/plain": [
              "41"
            ]
          },
          "metadata": {},
          "execution_count": 23
        }
      ],
      "source": [
        "len(columns_to_drop)"
      ]
    },
    {
      "cell_type": "code",
      "execution_count": 24,
      "metadata": {
        "colab": {
          "base_uri": "https://localhost:8080/"
        },
        "id": "Ijc8anj1OPdP",
        "outputId": "43cc1303-1ea2-4c82-ae63-102be1283c6a"
      },
      "outputs": [
        {
          "output_type": "execute_result",
          "data": {
            "text/plain": [
              "110"
            ]
          },
          "metadata": {},
          "execution_count": 24
        }
      ],
      "source": [
        "len(data.columns) - len(columns_to_drop)"
      ]
    },
    {
      "cell_type": "code",
      "execution_count": 25,
      "metadata": {
        "colab": {
          "base_uri": "https://localhost:8080/"
        },
        "id": "FDftPBDSOPhF",
        "outputId": "5911ff52-60ed-4238-fffc-9b794e5a011e"
      },
      "outputs": [
        {
          "output_type": "execute_result",
          "data": {
            "text/plain": [
              "(151, 110)"
            ]
          },
          "metadata": {},
          "execution_count": 25
        }
      ],
      "source": [
        "len(data.columns), len(data1.columns)"
      ]
    },
    {
      "cell_type": "code",
      "execution_count": 26,
      "metadata": {
        "colab": {
          "base_uri": "https://localhost:8080/"
        },
        "id": "RwnyCVHuOiuy",
        "outputId": "ca84103a-57f9-466f-d8cf-e2630f354785"
      },
      "outputs": [
        {
          "output_type": "stream",
          "name": "stdout",
          "text": [
            "+----------+\n",
            "|      term|\n",
            "+----------+\n",
            "| 36 months|\n",
            "| 60 months|\n",
            "|      NULL|\n",
            "+----------+\n",
            "\n",
            "None\n"
          ]
        }
      ],
      "source": [
        "print(data1.select('term').distinct().show())"
      ]
    },
    {
      "cell_type": "code",
      "execution_count": 27,
      "metadata": {
        "id": "0B0RzolAPqjv"
      },
      "outputs": [],
      "source": [
        "data1 = data1.withColumn('term_in_months', regexp_replace(col('term'),'months',''))"
      ]
    },
    {
      "cell_type": "code",
      "execution_count": 28,
      "metadata": {
        "id": "0gQ72_zaqDT8"
      },
      "outputs": [],
      "source": [
        "#print(data1.select('term_in_months','term').distinct().show())"
      ]
    },
    {
      "cell_type": "code",
      "execution_count": 29,
      "metadata": {
        "id": "yWKndtBvI4a8"
      },
      "outputs": [],
      "source": [
        "data1 = data1.drop('term')"
      ]
    },
    {
      "cell_type": "code",
      "execution_count": 30,
      "metadata": {
        "id": "Z3vOH4ajIuKJ"
      },
      "outputs": [],
      "source": [
        "# Column emp_length\n",
        "# data1.select('emp_length').distinct().show(13, False)"
      ]
    },
    {
      "cell_type": "code",
      "execution_count": 31,
      "metadata": {
        "colab": {
          "base_uri": "https://localhost:8080/"
        },
        "id": "Dj44o2KwY7EY",
        "outputId": "07e9b38b-18f0-4908-e259-76a9bab4b2ef"
      },
      "outputs": [
        {
          "output_type": "execute_result",
          "data": {
            "text/plain": [
              "12"
            ]
          },
          "metadata": {},
          "execution_count": 31
        }
      ],
      "source": [
        "data1.select('emp_length').distinct().count()"
      ]
    },
    {
      "cell_type": "code",
      "execution_count": 32,
      "metadata": {
        "colab": {
          "base_uri": "https://localhost:8080/"
        },
        "id": "LGq__JYoadc2",
        "outputId": "f7a71853-32e7-4a8e-b267-9c883919d9e0"
      },
      "outputs": [
        {
          "output_type": "execute_result",
          "data": {
            "text/plain": [
              "0"
            ]
          },
          "metadata": {},
          "execution_count": 32
        }
      ],
      "source": [
        "data1.select('id').filter(col('emp_length').like('%reactors%')).count()\n",
        "# spark.read.csv(''data.csv', header = True, inferschema=True, Escape = '\"\"') # This will eliminate the character with \"\" in csv data"
      ]
    },
    {
      "cell_type": "code",
      "execution_count": 33,
      "metadata": {
        "colab": {
          "base_uri": "https://localhost:8080/"
        },
        "id": "BUtBe0SBdcpS",
        "outputId": "8467b6cf-adbc-4482-eeba-81105c4d4ecc"
      },
      "outputs": [
        {
          "output_type": "stream",
          "name": "stdout",
          "text": [
            "+----------+\n",
            "|emp_length|\n",
            "+----------+\n",
            "|   5 years|\n",
            "|   9 years|\n",
            "|    1 year|\n",
            "|   2 years|\n",
            "|   7 years|\n",
            "|   8 years|\n",
            "|   4 years|\n",
            "|   6 years|\n",
            "|   3 years|\n",
            "| 10+ years|\n",
            "|  < 1 year|\n",
            "|      NULL|\n",
            "+----------+\n",
            "\n"
          ]
        }
      ],
      "source": [
        "data1.select('emp_length').distinct().show() # reactor is not apearing"
      ]
    },
    {
      "cell_type": "code",
      "execution_count": 34,
      "metadata": {
        "id": "PyUB5nxpIuFr"
      },
      "outputs": [],
      "source": [
        "data1= data1.withColumn('emp_length_years', regexp_extract(col('emp_length'),'\\\\d+',0))  # regexp_extract(str, pattern, index)"
      ]
    },
    {
      "cell_type": "code",
      "execution_count": 35,
      "metadata": {
        "colab": {
          "base_uri": "https://localhost:8080/"
        },
        "id": "A1c8AWMoIuBT",
        "outputId": "5abd8098-9297-4981-8a3c-a4d5d81cf814"
      },
      "outputs": [
        {
          "output_type": "stream",
          "name": "stdout",
          "text": [
            "+----------------+----------+\n",
            "|emp_length_years|emp_length|\n",
            "+----------------+----------+\n",
            "|               1|  < 1 year|\n",
            "|               6|   6 years|\n",
            "|               1|    1 year|\n",
            "|               8|   8 years|\n",
            "|               7|   7 years|\n",
            "|               4|   4 years|\n",
            "|               5|   5 years|\n",
            "|               9|   9 years|\n",
            "|               3|   3 years|\n",
            "|              10| 10+ years|\n",
            "+----------------+----------+\n",
            "only showing top 10 rows\n",
            "\n"
          ]
        }
      ],
      "source": [
        "data1.select('emp_length_years', 'emp_length').distinct().show(10)"
      ]
    },
    {
      "cell_type": "code",
      "execution_count": 36,
      "metadata": {
        "id": "TIZkeAa-It8J"
      },
      "outputs": [],
      "source": [
        "data1 = data1.drop('emp_length')"
      ]
    },
    {
      "cell_type": "code",
      "execution_count": 37,
      "metadata": {
        "id": "2qrgl2LahgVQ"
      },
      "outputs": [],
      "source": [
        "data1 = data1.fillna(0, subset = ['emp_length_years'])  # subset can be used for multiple columns"
      ]
    },
    {
      "cell_type": "code",
      "execution_count": 38,
      "metadata": {
        "colab": {
          "base_uri": "https://localhost:8080/"
        },
        "id": "jfq2LoeaifOQ",
        "outputId": "7af832f8-c4af-45ed-958e-f28554dfe6cb"
      },
      "outputs": [
        {
          "output_type": "stream",
          "name": "stdout",
          "text": [
            "+----------------+\n",
            "|emp_length_years|\n",
            "+----------------+\n",
            "|               7|\n",
            "|               3|\n",
            "|               8|\n",
            "|               5|\n",
            "|               6|\n",
            "|               9|\n",
            "|               1|\n",
            "|              10|\n",
            "|               4|\n",
            "|               2|\n",
            "|            NULL|\n",
            "+----------------+\n",
            "\n"
          ]
        }
      ],
      "source": [
        "data1.select('emp_length_years').distinct().show(100)"
      ]
    },
    {
      "cell_type": "code",
      "execution_count": 39,
      "metadata": {
        "id": "Rz2q6QPKjTbS"
      },
      "outputs": [],
      "source": [
        "# data1 = data1.withColumn('emp_length_years', col('emp_length_years').cast(int))\n",
        "# from pyspark.sql.types import *\n",
        "# from pyspark.sql.functions import *"
      ]
    },
    {
      "cell_type": "code",
      "execution_count": 40,
      "metadata": {
        "id": "kWCoWqKblJHP"
      },
      "outputs": [],
      "source": [
        "data1 = data1.withColumn('emp_length_years', data1['emp_length_years'].cast(IntegerType()))"
      ]
    },
    {
      "cell_type": "code",
      "execution_count": 41,
      "metadata": {
        "colab": {
          "base_uri": "https://localhost:8080/"
        },
        "id": "bgFjqoYxljQd",
        "outputId": "55119838-dc11-48bc-f4ed-f4c117a4ac15"
      },
      "outputs": [
        {
          "output_type": "stream",
          "name": "stdout",
          "text": [
            "+----------------+\n",
            "|emp_length_years|\n",
            "+----------------+\n",
            "|               1|\n",
            "|               6|\n",
            "|               3|\n",
            "|               5|\n",
            "|               9|\n",
            "|               4|\n",
            "|               8|\n",
            "|               7|\n",
            "|              10|\n",
            "|               2|\n",
            "|               0|\n",
            "+----------------+\n",
            "\n"
          ]
        }
      ],
      "source": [
        "data1 = data1.fillna(0, subset = ['emp_length_years'])\n",
        "data1.select('emp_length_years').distinct().show(100) #  null value replaced with '0' in the distinct values"
      ]
    },
    {
      "cell_type": "code",
      "execution_count": 42,
      "metadata": {
        "id": "1n0br7LlIt2e"
      },
      "outputs": [],
      "source": [
        "# emp_title\n",
        "# data1.select('emp_title').distinct().show()"
      ]
    },
    {
      "cell_type": "code",
      "execution_count": 43,
      "metadata": {
        "colab": {
          "base_uri": "https://localhost:8080/"
        },
        "id": "zoFJSFeHrtx5",
        "outputId": "1e2c0f76-5feb-4f18-b136-030d2ab21d8c"
      },
      "outputs": [
        {
          "output_type": "execute_result",
          "data": {
            "text/plain": [
              "167002"
            ]
          },
          "metadata": {},
          "execution_count": 43
        }
      ],
      "source": [
        "data1.filter(col('emp_title').isNull()).count()\n",
        "# 167002"
      ]
    },
    {
      "cell_type": "code",
      "execution_count": 44,
      "metadata": {
        "colab": {
          "base_uri": "https://localhost:8080/"
        },
        "id": "XJ_ot0UQs000",
        "outputId": "9f106495-8dcf-473b-950e-6904d1b8137a"
      },
      "outputs": [
        {
          "output_type": "execute_result",
          "data": {
            "text/plain": [
              "7.387177693998455"
            ]
          },
          "metadata": {},
          "execution_count": 44
        }
      ],
      "source": [
        "(167002/data1.count())*100\n",
        "# 7% null value, so impute the values 'NA'."
      ]
    },
    {
      "cell_type": "code",
      "execution_count": 45,
      "metadata": {
        "id": "pnklYKvGq_pv"
      },
      "outputs": [],
      "source": [
        "# data1 = data1.fillna('N/A', subset = ['emp_title'])\n",
        "# missing value handeled"
      ]
    },
    {
      "cell_type": "code",
      "execution_count": 46,
      "metadata": {
        "id": "a5doUVaQEMgZ"
      },
      "outputs": [],
      "source": [
        "#data1.filter(col('emp_title').isNull()).count()"
      ]
    },
    {
      "cell_type": "code",
      "execution_count": 47,
      "metadata": {
        "id": "a8hrOsKdHzqe"
      },
      "outputs": [],
      "source": [
        "#data1.select('home_ownership').distinct().show(10)"
      ]
    },
    {
      "cell_type": "code",
      "execution_count": 48,
      "metadata": {
        "id": "HoZODKKNIZTs"
      },
      "outputs": [],
      "source": [
        "#data1 = data1.fillna('N/A', subset = ['emp_title','home_ownership'])"
      ]
    },
    {
      "cell_type": "code",
      "execution_count": 49,
      "metadata": {
        "id": "ow9v2c2wIfMO"
      },
      "outputs": [],
      "source": [
        "# data1.select('home_ownership').distinct().show(40)\n",
        "# data1.select('verification_status').distinct().show(40)"
      ]
    },
    {
      "cell_type": "code",
      "execution_count": 50,
      "metadata": {
        "id": "QQS4rY7UIn3d"
      },
      "outputs": [],
      "source": [
        "# data1.select('grade').distinct().show(10)\n",
        "# data1.select('sub_grade').distinct().show(10)"
      ]
    },
    {
      "cell_type": "code",
      "execution_count": 51,
      "metadata": {
        "id": "x_Xb0s3bahP0"
      },
      "outputs": [],
      "source": [
        " #data1.select('issue_d').distinct().show() # checking the distinct column for all the A13 Columns"
      ]
    },
    {
      "cell_type": "code",
      "execution_count": 52,
      "metadata": {
        "colab": {
          "base_uri": "https://localhost:8080/"
        },
        "id": "caNY-96LIoCc",
        "outputId": "2e95fb63-d35e-492b-ff11-ff374f691b71"
      },
      "outputs": [
        {
          "output_type": "execute_result",
          "data": {
            "text/plain": [
              "2260669"
            ]
          },
          "metadata": {},
          "execution_count": 52
        }
      ],
      "source": [
        "# data1.filter(col('url').isNull()).count()\n",
        "# 33\n",
        "data1.select('url').distinct().count()"
      ]
    },
    {
      "cell_type": "code",
      "source": [
        "# Original list of column names\n",
        "column_names = data1.columns\n",
        "\n",
        "# Number of sublists you want\n",
        "num_sublists = 13\n",
        "\n",
        "# Calculate the size of each sublist\n",
        "sublist_size = len(column_names) // num_sublists\n",
        "\n",
        "# Divide the list into sublists\n",
        "sublists = [column_names[i:i + sublist_size] for i in range(0, len(column_names), sublist_size)]\n",
        "\n",
        "# Store sublists in new variables with meaningful names\n",
        "for i, sublist in enumerate(sublists):\n",
        "    new_variable_name = f'N_column'\n",
        "    globals()[new_variable_name] = sublist\n",
        "\n",
        "# Print the sublists\n",
        "for i, sublist in enumerate(sublists):\n",
        "    print(f'{new_variable_name}_{i + 1}: {sublist}')\n"
      ],
      "metadata": {
        "colab": {
          "base_uri": "https://localhost:8080/"
        },
        "id": "nfcUFoBqSbzC",
        "outputId": "b6733a73-b20a-4ca2-b29f-a9048d854ad1"
      },
      "execution_count": 53,
      "outputs": [
        {
          "output_type": "stream",
          "name": "stdout",
          "text": [
            "N_column_1: ['id', 'loan_amnt', 'funded_amnt', 'funded_amnt_inv', 'int_rate', 'installment', 'grade', 'sub_grade']\n",
            "N_column_2: ['emp_title', 'home_ownership', 'annual_inc', 'verification_status', 'issue_d', 'loan_status', 'pymnt_plan', 'url']\n",
            "N_column_3: ['purpose', 'title', 'zip_code', 'addr_state', 'dti', 'delinq_2yrs', 'earliest_cr_line', 'fico_range_low']\n",
            "N_column_4: ['fico_range_high', 'inq_last_6mths', 'mths_since_last_delinq', 'open_acc', 'pub_rec', 'revol_bal', 'revol_util', 'total_acc']\n",
            "N_column_5: ['initial_list_status', 'out_prncp', 'out_prncp_inv', 'total_pymnt', 'total_pymnt_inv', 'total_rec_prncp', 'total_rec_int', 'total_rec_late_fee']\n",
            "N_column_6: ['recoveries', 'collection_recovery_fee', 'last_pymnt_d', 'last_pymnt_amnt', 'next_pymnt_d', 'last_credit_pull_d', 'last_fico_range_high', 'last_fico_range_low']\n",
            "N_column_7: ['collections_12_mths_ex_med', 'policy_code', 'application_type', 'acc_now_delinq', 'tot_coll_amt', 'tot_cur_bal', 'open_acc_6m', 'open_act_il']\n",
            "N_column_8: ['open_il_12m', 'open_il_24m', 'mths_since_rcnt_il', 'total_bal_il', 'il_util', 'open_rv_12m', 'open_rv_24m', 'max_bal_bc']\n",
            "N_column_9: ['all_util', 'total_rev_hi_lim', 'inq_fi', 'total_cu_tl', 'inq_last_12m', 'acc_open_past_24mths', 'avg_cur_bal', 'bc_open_to_buy']\n",
            "N_column_10: ['bc_util', 'chargeoff_within_12_mths', 'delinq_amnt', 'mo_sin_old_il_acct', 'mo_sin_old_rev_tl_op', 'mo_sin_rcnt_rev_tl_op', 'mo_sin_rcnt_tl', 'mort_acc']\n",
            "N_column_11: ['mths_since_recent_bc', 'mths_since_recent_inq', 'mths_since_recent_revol_delinq', 'num_accts_ever_120_pd', 'num_actv_bc_tl', 'num_actv_rev_tl', 'num_bc_sats', 'num_bc_tl']\n",
            "N_column_12: ['num_il_tl', 'num_op_rev_tl', 'num_rev_accts', 'num_rev_tl_bal_gt_0', 'num_sats', 'num_tl_120dpd_2m', 'num_tl_30dpd', 'num_tl_90g_dpd_24m']\n",
            "N_column_13: ['num_tl_op_past_12m', 'pct_tl_nvr_dlq', 'percent_bc_gt_75', 'pub_rec_bankruptcies', 'tax_liens', 'tot_hi_cred_lim', 'total_bal_ex_mort', 'total_bc_limit']\n",
            "N_column_14: ['total_il_high_credit_limit', 'hardship_flag', 'disbursement_method', 'debt_settlement_flag', 'term_in_months', 'emp_length_years']\n"
          ]
        }
      ]
    },
    {
      "cell_type": "code",
      "source": [
        "len(data1.columns)"
      ],
      "metadata": {
        "colab": {
          "base_uri": "https://localhost:8080/"
        },
        "id": "ntaXO4WgUPAm",
        "outputId": "0f1c766b-90b0-435b-a5fd-4d79d450b847"
      },
      "execution_count": 54,
      "outputs": [
        {
          "output_type": "execute_result",
          "data": {
            "text/plain": [
              "110"
            ]
          },
          "metadata": {},
          "execution_count": 54
        }
      ]
    },
    {
      "cell_type": "code",
      "source": [
        "N_column_1 = ['id', 'loan_amnt', 'funded_amnt', 'funded_amnt_inv', 'int_rate', 'installment', 'grade', 'sub_grade']\n",
        "N_column_2 = ['emp_title', 'home_ownership', 'annual_inc', 'verification_status', 'issue_d', 'loan_status', 'pymnt_plan', 'url']\n",
        "N_column_3 = ['purpose', 'title', 'zip_code', 'addr_state', 'dti', 'delinq_2yrs', 'earliest_cr_line', 'fico_range_low']\n",
        "N_column_4 = ['fico_range_high', 'inq_last_6mths', 'mths_since_last_delinq', 'open_acc', 'pub_rec', 'revol_bal', 'revol_util', 'total_acc']\n",
        "N_column_5 = ['initial_list_status', 'out_prncp', 'out_prncp_inv', 'total_pymnt', 'total_pymnt_inv', 'total_rec_prncp', 'total_rec_int', 'total_rec_late_fee']\n",
        "N_column_6 = ['recoveries', 'collection_recovery_fee', 'last_pymnt_d', 'last_pymnt_amnt', 'next_pymnt_d', 'last_credit_pull_d', 'last_fico_range_high', 'last_fico_range_low']\n",
        "N_column_7 = ['collections_12_mths_ex_med', 'policy_code', 'application_type', 'acc_now_delinq', 'tot_coll_amt', 'tot_cur_bal', 'open_acc_6m', 'open_act_il']\n",
        "N_column_8 = ['open_il_12m', 'open_il_24m', 'mths_since_rcnt_il', 'total_bal_il', 'il_util', 'open_rv_12m', 'open_rv_24m', 'max_bal_bc']\n",
        "N_column_9 = ['all_util', 'total_rev_hi_lim', 'inq_fi', 'total_cu_tl', 'inq_last_12m', 'acc_open_past_24mths', 'avg_cur_bal', 'bc_open_to_buy']\n",
        "N_column_10 = ['bc_util', 'chargeoff_within_12_mths', 'delinq_amnt', 'mo_sin_old_il_acct', 'mo_sin_old_rev_tl_op', 'mo_sin_rcnt_rev_tl_op', 'mo_sin_rcnt_tl', 'mort_acc']\n",
        "N_column_11 = ['mths_since_recent_bc', 'mths_since_recent_inq', 'mths_since_recent_revol_delinq', 'num_accts_ever_120_pd', 'num_actv_bc_tl', 'num_actv_rev_tl', 'num_bc_sats', 'num_bc_tl']\n",
        "N_column_12 = ['num_il_tl', 'num_op_rev_tl', 'num_rev_accts', 'num_rev_tl_bal_gt_0', 'num_sats', 'num_tl_120dpd_2m', 'num_tl_30dpd', 'num_tl_90g_dpd_24m']\n",
        "N_column_13 = ['num_tl_op_past_12m', 'pct_tl_nvr_dlq', 'percent_bc_gt_75', 'pub_rec_bankruptcies', 'tax_liens', 'tot_hi_cred_lim', 'total_bal_ex_mort', 'total_bc_limit']\n",
        "N_column_14 = ['total_il_high_credit_limit', 'hardship_flag', 'disbursement_method', 'debt_settlement_flag', 'term_in_months', 'emp_length_years']"
      ],
      "metadata": {
        "id": "8ZSiV6VQSCvQ"
      },
      "execution_count": 55,
      "outputs": []
    },
    {
      "cell_type": "code",
      "execution_count": 98,
      "metadata": {
        "colab": {
          "base_uri": "https://localhost:8080/"
        },
        "id": "82lUj3K9cfPG",
        "outputId": "1172ef65-a5e6-4564-e120-00f62de62643"
      },
      "outputs": [
        {
          "output_type": "stream",
          "name": "stdout",
          "text": [
            "+--------------------------+-------------+-------------------+--------------------+--------------+----------------+\n",
            "|total_il_high_credit_limit|hardship_flag|disbursement_method|debt_settlement_flag|term_in_months|emp_length_years|\n",
            "+--------------------------+-------------+-------------------+--------------------+--------------+----------------+\n",
            "|                         0|            0|                  0|                   0|             0|               0|\n",
            "+--------------------------+-------------+-------------------+--------------------+--------------+----------------+\n",
            "\n"
          ]
        }
      ],
      "source": [
        "# N_column_1 - Zero null values\n",
        "# N_column_2 - Zero null values\n",
        "# N_column_3 - Zero null values\n",
        "# N_column_4 - Zero null values\n",
        "# N_column_5 - Zero null values\n",
        "# N_column_6 - Zero null values\n",
        "# N_column_7 - Zero null values\n",
        "# N_column_8 - Zero null values\n",
        "# N_column_9 - Zero null values\n",
        "# N_column_10 - Zero null values\n",
        "# N_column_11 - Zero null values\n",
        "# N_column_12 - Zero null values\n",
        "# N_column_13 - Zero null values\n",
        "# N_column_14 - Zero null values\n",
        "\n",
        "\n",
        "data1.select([count(when(isnan(c)|col(c).isNull(),c)).alias(c)  for c in N_column_14]).show()"
      ]
    },
    {
      "cell_type": "code",
      "source": [
        "# data1.filter(length(\"addr_state\") == 1).show()   # Checking for string length > 2 and <2 is Zero\n",
        "data1.select(  'term_in_months' ).distinct().show(29, False)"
      ],
      "metadata": {
        "colab": {
          "base_uri": "https://localhost:8080/"
        },
        "id": "GgCBpVeOk7bI",
        "outputId": "8cfb2254-e025-491e-e3e4-15c80faefc17"
      },
      "execution_count": 96,
      "outputs": [
        {
          "output_type": "stream",
          "name": "stdout",
          "text": [
            "+--------------+\n",
            "|term_in_months|\n",
            "+--------------+\n",
            "| 36           |\n",
            "| 60           |\n",
            "|NULL          |\n",
            "+--------------+\n",
            "\n"
          ]
        }
      ]
    },
    {
      "cell_type": "code",
      "execution_count": 97,
      "metadata": {
        "id": "icNSP2R3cc51"
      },
      "outputs": [],
      "source": [
        "data1 = data1.fillna(1,subset = ['policy_code'])\n",
        "\n",
        "data1 = data1.fillna('N',subset = ['hardship_flag', 'debt_settlement_flag'])\n",
        "\n",
        "data1 = data1.fillna('N/A', subset = ['emp_title','home_ownership','verification_status','grade','sub_grade','issue_d','loan_status', 'pymnt_plan','url','purpose','title' \\\n",
        "                                      , 'title', 'zip_code', 'addr_state', 'earliest_cr_line', 'initial_list_status','last_pymnt_d','next_pymnt_d', 'last_credit_pull_d',\\\n",
        "                                      'application_type', 'disbursement_method','term_in_months'])  # categorical Imputation\n",
        "\n",
        "\n",
        "\n",
        "data1 = data1.fillna(0, subset = ['emp_length_years','annual_inc','loan_amnt','funded_amnt','int_rate','installment', 'funded_amnt_inv'\\\n",
        "                                  ,'dti', 'delinq_2yrs', 'fico_range_low', 'fico_range_high', 'inq_last_6mths', 'mths_since_last_delinq', 'open_acc', 'pub_rec','revol_bal',\\\n",
        "                                  'revol_util','total_acc', 'out_prncp','out_prncp_inv', 'total_pymnt', 'total_pymnt_inv', 'total_rec_prncp','total_rec_int', 'total_rec_late_fee'\\\n",
        "                                  ,'recoveries', 'collection_recovery_fee','last_pymnt_amnt','last_fico_range_high', 'last_fico_range_low','collections_12_mths_ex_med', 'acc_now_delinq'\\\n",
        "                                  ,'tot_coll_amt', 'tot_cur_bal', 'open_act_il', 'open_acc_6m', 'mths_since_rcnt_il','total_bal_il' ,'open_il_24m','open_il_12m'\\\n",
        "                                  , 'il_util', 'open_rv_12m', 'open_rv_24m', 'max_bal_bc', 'open_rv_12m', 'open_rv_24m',  'all_util', 'total_rev_hi_lim', 'total_cu_tl','inq_fi'\\\n",
        "                                  , 'avg_cur_bal', 'bc_open_to_buy', 'inq_last_12m', 'acc_open_past_24mths', 'bc_util', 'mo_sin_old_il_acct','delinq_amnt', 'chargeoff_within_12_mths'\\\n",
        "                                  ,'mo_sin_old_rev_tl_op', 'mo_sin_rcnt_rev_tl_op', 'mo_sin_rcnt_tl', 'mort_acc',  'mths_since_recent_bc'\\\n",
        "                                  ,'mths_since_recent_inq','mths_since_recent_revol_delinq','num_accts_ever_120_pd','num_actv_bc_tl','num_actv_rev_tl'\\\n",
        "                                  ,'num_bc_sats','num_bc_tl','num_il_tl','num_op_rev_tl','num_rev_accts','num_rev_tl_bal_gt_0','num_sats','num_tl_90g_dpd_24m'\\\n",
        "                                  ,'num_tl_120dpd_2m','num_tl_30dpd','num_tl_op_past_12m','pct_tl_nvr_dlq','percent_bc_gt_75','pub_rec_bankruptcies'\\\n",
        "                                  , 'tot_hi_cred_lim', 'total_bal_ex_mort', 'total_bc_limit', 'tax_liens', 'total_il_high_credit_limit',]) # Numerical Imputation"
      ]
    },
    {
      "cell_type": "code",
      "execution_count": 99,
      "metadata": {
        "id": "d3GMC3kjk2XO",
        "colab": {
          "base_uri": "https://localhost:8080/"
        },
        "outputId": "cb3dc9e2-2257-458c-db09-9eba66c80e8d"
      },
      "outputs": [
        {
          "output_type": "stream",
          "name": "stdout",
          "text": [
            "+---+---------+-----------+---------------+--------+-----------+-----+---------+---------+--------------+----------+-------------------+-------+-----------+----------+---+-------+-----+--------+----------+---+-----------+----------------+--------------+---------------+--------------+----------------------+--------+-------+---------+----------+---------+-------------------+---------+-------------+-----------+---------------+---------------+-------------+------------------+----------+-----------------------+------------+---------------+------------+------------------+--------------------+-------------------+--------------------------+-----------+----------------+--------------+------------+-----------+-----------+-----------+-----------+-----------+------------------+------------+-------+-----------+-----------+----------+--------+----------------+------+-----------+------------+--------------------+-----------+--------------+-------+------------------------+-----------+------------------+--------------------+---------------------+--------------+--------+--------------------+---------------------+------------------------------+---------------------+--------------+---------------+-----------+---------+---------+-------------+-------------+-------------------+--------+----------------+------------+------------------+------------------+--------------+----------------+--------------------+---------+---------------+-----------------+--------------+--------------------------+-------------+-------------------+--------------------+--------------+----------------+\n",
            "| id|loan_amnt|funded_amnt|funded_amnt_inv|int_rate|installment|grade|sub_grade|emp_title|home_ownership|annual_inc|verification_status|issue_d|loan_status|pymnt_plan|url|purpose|title|zip_code|addr_state|dti|delinq_2yrs|earliest_cr_line|fico_range_low|fico_range_high|inq_last_6mths|mths_since_last_delinq|open_acc|pub_rec|revol_bal|revol_util|total_acc|initial_list_status|out_prncp|out_prncp_inv|total_pymnt|total_pymnt_inv|total_rec_prncp|total_rec_int|total_rec_late_fee|recoveries|collection_recovery_fee|last_pymnt_d|last_pymnt_amnt|next_pymnt_d|last_credit_pull_d|last_fico_range_high|last_fico_range_low|collections_12_mths_ex_med|policy_code|application_type|acc_now_delinq|tot_coll_amt|tot_cur_bal|open_acc_6m|open_act_il|open_il_12m|open_il_24m|mths_since_rcnt_il|total_bal_il|il_util|open_rv_12m|open_rv_24m|max_bal_bc|all_util|total_rev_hi_lim|inq_fi|total_cu_tl|inq_last_12m|acc_open_past_24mths|avg_cur_bal|bc_open_to_buy|bc_util|chargeoff_within_12_mths|delinq_amnt|mo_sin_old_il_acct|mo_sin_old_rev_tl_op|mo_sin_rcnt_rev_tl_op|mo_sin_rcnt_tl|mort_acc|mths_since_recent_bc|mths_since_recent_inq|mths_since_recent_revol_delinq|num_accts_ever_120_pd|num_actv_bc_tl|num_actv_rev_tl|num_bc_sats|num_bc_tl|num_il_tl|num_op_rev_tl|num_rev_accts|num_rev_tl_bal_gt_0|num_sats|num_tl_120dpd_2m|num_tl_30dpd|num_tl_90g_dpd_24m|num_tl_op_past_12m|pct_tl_nvr_dlq|percent_bc_gt_75|pub_rec_bankruptcies|tax_liens|tot_hi_cred_lim|total_bal_ex_mort|total_bc_limit|total_il_high_credit_limit|hardship_flag|disbursement_method|debt_settlement_flag|term_in_months|emp_length_years|\n",
            "+---+---------+-----------+---------------+--------+-----------+-----+---------+---------+--------------+----------+-------------------+-------+-----------+----------+---+-------+-----+--------+----------+---+-----------+----------------+--------------+---------------+--------------+----------------------+--------+-------+---------+----------+---------+-------------------+---------+-------------+-----------+---------------+---------------+-------------+------------------+----------+-----------------------+------------+---------------+------------+------------------+--------------------+-------------------+--------------------------+-----------+----------------+--------------+------------+-----------+-----------+-----------+-----------+-----------+------------------+------------+-------+-----------+-----------+----------+--------+----------------+------+-----------+------------+--------------------+-----------+--------------+-------+------------------------+-----------+------------------+--------------------+---------------------+--------------+--------+--------------------+---------------------+------------------------------+---------------------+--------------+---------------+-----------+---------+---------+-------------+-------------+-------------------+--------+----------------+------------+------------------+------------------+--------------+----------------+--------------------+---------+---------------+-----------------+--------------+--------------------------+-------------+-------------------+--------------------+--------------+----------------+\n",
            "|  0|        0|          0|              0|       0|          0|    0|        0|        0|             0|         0|                  0|      0|          0|         0|  0|      0|    0|       0|         0|  0|          0|               0|             0|              0|             0|                     0|       0|      0|        0|         0|        0|                  0|        0|            0|          0|              0|              0|            0|                 0|         0|                      0|           0|              0|           0|                 0|                   0|                  0|                         0|          0|               0|             0|           0|          0|          0|          0|          0|          0|                 0|           0|      0|          0|          0|         0|       0|               0|     0|          0|           0|                   0|          0|             0|      0|                       0|          0|                 0|                   0|                    0|             0|       0|                   0|                    0|                             0|                    0|             0|              0|          0|        0|        0|            0|            0|                  0|       0|               0|           0|                 0|                 0|             0|               0|                   0|        0|              0|                0|             0|                         0|            0|                  0|                   0|             0|               0|\n",
            "+---+---------+-----------+---------------+--------+-----------+-----+---------+---------+--------------+----------+-------------------+-------+-----------+----------+---+-------+-----+--------+----------+---+-----------+----------------+--------------+---------------+--------------+----------------------+--------+-------+---------+----------+---------+-------------------+---------+-------------+-----------+---------------+---------------+-------------+------------------+----------+-----------------------+------------+---------------+------------+------------------+--------------------+-------------------+--------------------------+-----------+----------------+--------------+------------+-----------+-----------+-----------+-----------+-----------+------------------+------------+-------+-----------+-----------+----------+--------+----------------+------+-----------+------------+--------------------+-----------+--------------+-------+------------------------+-----------+------------------+--------------------+---------------------+--------------+--------+--------------------+---------------------+------------------------------+---------------------+--------------+---------------+-----------+---------+---------+-------------+-------------+-------------------+--------+----------------+------------+------------------+------------------+--------------+----------------+--------------------+---------+---------------+-----------------+--------------+--------------------------+-------------+-------------------+--------------------+--------------+----------------+\n",
            "\n"
          ]
        }
      ],
      "source": [
        "null_counts = data1.agg(*[sum(col(c).isNull().cast(\"int\")).alias(c) for c in data1.columns])\n",
        "\n",
        "# Display the result\n",
        "null_counts.show()"
      ]
    },
    {
      "cell_type": "code",
      "source": [],
      "metadata": {
        "id": "BS9BPg2SPBCy"
      },
      "execution_count": null,
      "outputs": []
    }
  ],
  "metadata": {
    "accelerator": "TPU",
    "colab": {
      "provenance": []
    },
    "kernelspec": {
      "display_name": "Python 3",
      "name": "python3"
    },
    "language_info": {
      "name": "python"
    }
  },
  "nbformat": 4,
  "nbformat_minor": 0
}